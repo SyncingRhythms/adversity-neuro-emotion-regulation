{
 "cells": [
  {
   "cell_type": "code",
   "execution_count": 1,
   "id": "bcc71bbc-8f67-4c76-846e-5ab194f5280e",
   "metadata": {},
   "outputs": [],
   "source": [
    "import pandas as pd\n",
    "import numpy as np\n",
    "# configure pandas\n",
    "pd.set_option('display.width', 500)\n",
    "pd.set_option('display.max_columns', 500)\n",
    "pd.set_option('display.max_rows', 1000)"
   ]
  },
  {
   "cell_type": "markdown",
   "id": "0f98a5ff-a7bd-4f0e-90ce-acd8cf011b8c",
   "metadata": {},
   "source": [
    "### Load excel file with table and derivative variables of interest"
   ]
  },
  {
   "cell_type": "code",
   "execution_count": 2,
   "id": "61d875f4-1d95-45a5-9bac-7962a716dcb4",
   "metadata": {},
   "outputs": [
    {
     "data": {
      "text/html": [
       "<div>\n",
       "<style scoped>\n",
       "    .dataframe tbody tr th:only-of-type {\n",
       "        vertical-align: middle;\n",
       "    }\n",
       "\n",
       "    .dataframe tbody tr th {\n",
       "        vertical-align: top;\n",
       "    }\n",
       "\n",
       "    .dataframe thead th {\n",
       "        text-align: right;\n",
       "    }\n",
       "</style>\n",
       "<table border=\"1\" class=\"dataframe\">\n",
       "  <thead>\n",
       "    <tr style=\"text-align: right;\">\n",
       "      <th></th>\n",
       "      <th>Table</th>\n",
       "      <th>Variable</th>\n",
       "      <th>Description</th>\n",
       "    </tr>\n",
       "  </thead>\n",
       "  <tbody>\n",
       "    <tr>\n",
       "      <th>0</th>\n",
       "      <td>led_l_adi</td>\n",
       "      <td>reshist_addr1_adi_edu_l</td>\n",
       "      <td>Residential history derived - Area Deprivation...</td>\n",
       "    </tr>\n",
       "    <tr>\n",
       "      <th>1</th>\n",
       "      <td>led_l_adi</td>\n",
       "      <td>reshist_addr1_adi_sp</td>\n",
       "      <td>Residential history derived - Area Deprivation...</td>\n",
       "    </tr>\n",
       "    <tr>\n",
       "      <th>2</th>\n",
       "      <td>led_l_adi</td>\n",
       "      <td>reshist_addr1_adi_unemp</td>\n",
       "      <td>Residential history derived - Area Deprivation...</td>\n",
       "    </tr>\n",
       "  </tbody>\n",
       "</table>\n",
       "</div>"
      ],
      "text/plain": [
       "       Table                 Variable                                        Description\n",
       "0  led_l_adi  reshist_addr1_adi_edu_l  Residential history derived - Area Deprivation...\n",
       "1  led_l_adi     reshist_addr1_adi_sp  Residential history derived - Area Deprivation...\n",
       "2  led_l_adi  reshist_addr1_adi_unemp  Residential history derived - Area Deprivation..."
      ]
     },
     "execution_count": 2,
     "metadata": {},
     "output_type": "execute_result"
    }
   ],
   "source": [
    "# imaging\n",
    "tvars = pd.read_excel('sesher_adi_deprivation_ind4-6.xlsx')\n",
    "tvars.tail()"
   ]
  },
  {
   "cell_type": "code",
   "execution_count": 3,
   "id": "306b7e78-4647-4087-83ee-b8251c624f78",
   "metadata": {},
   "outputs": [],
   "source": [
    "dpath = '/home/cglab/projects/abcd/data/abcd5.1-rser/'"
   ]
  },
  {
   "cell_type": "code",
   "execution_count": 4,
   "id": "4188aad3-fd51-4062-8bfe-ba155ba1d845",
   "metadata": {},
   "outputs": [],
   "source": [
    "import os\n",
    "from itertools import combinations\n",
    "\n",
    "# recursively search directory and subdirectories for csv file\n",
    "def findFile(name, path):\n",
    "    for root, dirs, files in os.walk(path):\n",
    "        if name in files:\n",
    "            return os.path.join(root, name)\n",
    "            \n",
    "def getDerivatives(df, table_file, table_key, how_merge='outer'):\n",
    "    dpath = '/home/cglab/projects/abcd/data/abcd-data-release-5.1/'\n",
    "    # find filepath, which is full path and name of file\n",
    "    filepath = findFile(table_file, path=dpath)\n",
    "    dat = pd.read_csv(filepath)\n",
    "    # get table name, which is the string before the period\n",
    "    table = table_file.split('.')[0]\n",
    "    # get column names sub and event which will need for merging dataframes\n",
    "    # it's the same for each df so overwriting is fine\n",
    "    se_nms = dat.columns[:2].values.tolist()\n",
    "    # derivative variables desired\n",
    "    derivative_cols = table_key[table_key['Table']==table]['Variable'].values.tolist()\n",
    "    derivative_cols += se_nms\n",
    "    # merge with overall with INNER join bc we dont want to exclude participants who have task mri data but not resting or vice versa\n",
    "    print('Prior to merge df size is {0} and other df shape is {1}\\n merging...\\n'.format(df.shape, dat[derivative_cols].shape))\n",
    "    if 'src_subject_id' not in df.columns:\n",
    "        # for first table assign it to df\n",
    "        df = dat[derivative_cols].copy()\n",
    "    else:\n",
    "        # all others are merged\n",
    "        df = df.merge(dat[derivative_cols], how=how_merge, on=['src_subject_id', 'eventname'])\n",
    "    print('Any duplicated columns? {}'.format(df.columns.duplicated().any()))\n",
    "    print('New df size is {}'.format(df.shape))\n",
    "    return df\n",
    "\n",
    "\n",
    "def dropDuplicateCols(df):\n",
    "    # check every combination of columns\n",
    "    # if ALL values are EQUAL, get the 2 columns\n",
    "    dup_pairs = [(i, j) for i,j in combinations(df, 2) if df[i].equals(df[j])]\n",
    "    cols_to_remove = []\n",
    "    # print the columns that match and get 1st one for removal\n",
    "    for i, j in dup_pairs:\n",
    "        print('{0} is identical to {1}'.format(i.upper(), j.upper()))\n",
    "        cols_to_remove.append(i)    \n",
    "    # drop duplicate columns\n",
    "    df.drop(columns=cols_to_remove, inplace=True)\n",
    "    # return df WITHOUT duplicate columns\n",
    "    return df\n",
    "\n",
    "#check if there are any MRI variables requested\n",
    "# if so, return the appropriate Quality control Variables\n",
    "def anyMRIvars(df):\n",
    "    # create empty list to store QC vars needed\n",
    "    qc_vars = []\n",
    "    # if any columns are found that startwith 'rsfmri_', append resting QC vars & the csv file they're found in,..\n",
    "    # ... creating a list of tuples which will be combined and converted to dataframe below\n",
    "    # this relies on the implicit boolean nature of lists, if empty their FALSE\n",
    "    if [col for col in df.columns if col.startswith('rsfmri_')]:\n",
    "        qc_vars += [('mri_y_qc_incl', 'imgincl_rsfmri_include'), ('mri_y_qc_motion', 'rsfmri_meanmotion'), ('mri_y_adm_info', 'mri_info_deviceserialnumber')]\n",
    "    \n",
    "    # if any columns are found that startwith 'rsfmri_', append resting QC vars & the csv file they're found in\n",
    "    if [col for col in df.columns if col.startswith('tfmri_nback_') or col.startswith('tfabwdp')  or col.startswith('tnbasem')]:\n",
    "        qc_vars += [('mri_y_qc_incl', 'imgincl_nback_include'), ('mri_y_qc_motion', 'tfmri_nback_all_meanmotion'), ('mri_y_adm_info', 'mri_info_deviceserialnumber')]\n",
    "    \n",
    "    # if qc_vars is NOT empty\n",
    "    if qc_vars:\n",
    "        # remove duplicates from qc_vars\n",
    "        # calling 'set' function on qc_vars returns only unique items\n",
    "        # then calling 'list' function converts it back to a list\n",
    "        qc_vars = list(set(qc_vars))\n",
    "        # set up table_key dataframe for pulling QC vars\n",
    "        # includes all QC vars selected above with cooresponding table name\n",
    "        qc_key = pd.DataFrame(qc_vars, columns=['Table', 'Variable'])\n",
    "        # get list of unique QC tables from qc_key tuple ex. ('mri_y_qc_incl', 'imgincl_rsfmri_include')\n",
    "        qc_tables = list(set([table for table, var in qc_vars]))\n",
    "        # append QC variables to dataframe\n",
    "        for table in qc_tables:\n",
    "            print('\\nPulling from table: {0}.csv\\n'.format(table))\n",
    "            df = getDerivatives(df, table + '.csv', qc_key, how_merge='left')\n",
    "        # output dataframe with QC variables merged\n",
    "        return df\n",
    "    else:\n",
    "        # else return the unchanged dataframe\n",
    "        return df\n",
    "        "
   ]
  },
  {
   "cell_type": "markdown",
   "id": "640fc89f-e3e4-4f7e-b6e7-719c8270814d",
   "metadata": {},
   "source": [
    "### Get tables that will be pulled\n",
    "* append '.csv' for data loading later\n",
    "* exclude temporal variance tables because interpretation of them unclear"
   ]
  },
  {
   "cell_type": "code",
   "execution_count": 5,
   "id": "8f3317c4-604a-4964-b59a-6324ce692d1b",
   "metadata": {},
   "outputs": [
    {
     "data": {
      "text/plain": [
       "['led_l_adi.csv']"
      ]
     },
     "execution_count": 5,
     "metadata": {},
     "output_type": "execute_result"
    }
   ],
   "source": [
    "data_files = [t + '.csv' for t in tvars['Table'].unique() if 'var' not in t]\n",
    "data_files"
   ]
  },
  {
   "cell_type": "markdown",
   "id": "a4eae323-e6fd-4881-ae80-f9665d56bb7b",
   "metadata": {},
   "source": [
    "## Make sure that first csv that is pulled from has multiple 'eventnames', so that they're included in future merges"
   ]
  },
  {
   "cell_type": "markdown",
   "id": "5921f041-9d94-473b-a647-d96ea627ed80",
   "metadata": {},
   "source": [
    "### Load, Select, & Merge data, \n",
    "* for every file in 'data_files'\n",
    "* and every variable listed in 'tvars'\n",
    "* append to rs"
   ]
  },
  {
   "cell_type": "code",
   "execution_count": 6,
   "id": "0da6c58e-2fa6-48bb-8f5c-428d4e193423",
   "metadata": {},
   "outputs": [
    {
     "name": "stdout",
     "output_type": "stream",
     "text": [
      "Prior to merge df size is (0, 0) and other df shape is (11215, 5)\n",
      " merging...\n",
      "\n",
      "Any duplicated columns? False\n",
      "New df size is (11215, 5)\n"
     ]
    }
   ],
   "source": [
    "# set empty dataframe  \n",
    "# to be filled with merges\n",
    "rs = pd.DataFrame()\n",
    "\n",
    "for file in data_files:\n",
    "    rs = getDerivatives(rs, file, tvars)"
   ]
  },
  {
   "cell_type": "code",
   "execution_count": 7,
   "id": "0ecf681c-dd01-4ee4-b7e8-1fe69d664088",
   "metadata": {},
   "outputs": [
    {
     "data": {
      "text/html": [
       "<div>\n",
       "<style scoped>\n",
       "    .dataframe tbody tr th:only-of-type {\n",
       "        vertical-align: middle;\n",
       "    }\n",
       "\n",
       "    .dataframe tbody tr th {\n",
       "        vertical-align: top;\n",
       "    }\n",
       "\n",
       "    .dataframe thead th {\n",
       "        text-align: right;\n",
       "    }\n",
       "</style>\n",
       "<table border=\"1\" class=\"dataframe\">\n",
       "  <thead>\n",
       "    <tr style=\"text-align: right;\">\n",
       "      <th></th>\n",
       "    </tr>\n",
       "  </thead>\n",
       "  <tbody>\n",
       "    <tr>\n",
       "      <th>0</th>\n",
       "    </tr>\n",
       "    <tr>\n",
       "      <th>1</th>\n",
       "    </tr>\n",
       "    <tr>\n",
       "      <th>2</th>\n",
       "    </tr>\n",
       "    <tr>\n",
       "      <th>3</th>\n",
       "    </tr>\n",
       "    <tr>\n",
       "      <th>4</th>\n",
       "    </tr>\n",
       "    <tr>\n",
       "      <th>...</th>\n",
       "    </tr>\n",
       "    <tr>\n",
       "      <th>11210</th>\n",
       "    </tr>\n",
       "    <tr>\n",
       "      <th>11211</th>\n",
       "    </tr>\n",
       "    <tr>\n",
       "      <th>11212</th>\n",
       "    </tr>\n",
       "    <tr>\n",
       "      <th>11213</th>\n",
       "    </tr>\n",
       "    <tr>\n",
       "      <th>11214</th>\n",
       "    </tr>\n",
       "  </tbody>\n",
       "</table>\n",
       "<p>11215 rows × 0 columns</p>\n",
       "</div>"
      ],
      "text/plain": [
       "Empty DataFrame\n",
       "Columns: []\n",
       "Index: [0, 1, 2, 3, 4, 5, 6, 7, 8, 9, 10, 11, 12, 13, 14, 15, 16, 17, 18, 19, 20, 21, 22, 23, 24, 25, 26, 27, 28, 29, 30, 31, 32, 33, 34, 35, 36, 37, 38, 39, 40, 41, 42, 43, 44, 45, 46, 47, 48, 49, 50, 51, 52, 53, 54, 55, 56, 57, 58, 59, 60, 61, 62, 63, 64, 65, 66, 67, 68, 69, 70, 71, 72, 73, 74, 75, 76, 77, 78, 79, 80, 81, 82, 83, 84, 85, 86, 87, 88, 89, 90, 91, 92, 93, 94, 95, 96, 97, 98, 99, ...]\n",
       "\n",
       "[11215 rows x 0 columns]"
      ]
     },
     "execution_count": 7,
     "metadata": {},
     "output_type": "execute_result"
    }
   ],
   "source": [
    "rs.loc[:, rs.columns.duplicated()==1]"
   ]
  },
  {
   "cell_type": "markdown",
   "id": "7e702985-9106-4308-b795-6a40b6cd43ff",
   "metadata": {},
   "source": [
    "### Drop columns with duplicate NAMES"
   ]
  },
  {
   "cell_type": "code",
   "execution_count": 8,
   "id": "3e6bd8f3-3691-44d7-a87f-9273b71d98a6",
   "metadata": {},
   "outputs": [
    {
     "name": "stdout",
     "output_type": "stream",
     "text": [
      "Any duplicated columns? False\n"
     ]
    }
   ],
   "source": [
    "rs = rs.loc[:,~rs.columns.duplicated()].copy()\n",
    "print('Any duplicated columns? {}'.format(rs.columns.duplicated().any()))"
   ]
  },
  {
   "cell_type": "markdown",
   "id": "16152331-341d-4964-8785-f55058379801",
   "metadata": {},
   "source": [
    "### Drop columns with duplicate VALUES"
   ]
  },
  {
   "cell_type": "code",
   "execution_count": 9,
   "id": "b0104771-9fe0-4292-ba1c-160fe1de6710",
   "metadata": {},
   "outputs": [
    {
     "name": "stdout",
     "output_type": "stream",
     "text": [
      "(11215, 5)\n",
      "(11215, 5)\n"
     ]
    }
   ],
   "source": [
    "print(rs.shape)\n",
    "rs = dropDuplicateCols(rs)\n",
    "print(rs.shape)"
   ]
  },
  {
   "cell_type": "code",
   "execution_count": 10,
   "id": "5422c465-521a-44f6-9a10-2ad3a54ba2c8",
   "metadata": {},
   "outputs": [],
   "source": [
    "if 'rsfmri_c_ngd_dt_ngd_dt' in rs.columns.tolist():\n",
    "    print('included')"
   ]
  },
  {
   "cell_type": "code",
   "execution_count": 11,
   "id": "c7a56945-8acf-4ddc-a910-2fa62acee030",
   "metadata": {},
   "outputs": [
    {
     "data": {
      "text/plain": [
       "reshist_addr1_adi_edu_l    1\n",
       "reshist_addr1_adi_sp       1\n",
       "reshist_addr1_adi_unemp    1\n",
       "src_subject_id             0\n",
       "eventname                  0\n",
       "dtype: int64"
      ]
     },
     "execution_count": 11,
     "metadata": {},
     "output_type": "execute_result"
    }
   ],
   "source": [
    "# check number of missing values in each column\n",
    "rs.isnull().sum()"
   ]
  },
  {
   "cell_type": "code",
   "execution_count": 12,
   "id": "9df50c1e-9d89-4e0a-8069-80a8f5c17b22",
   "metadata": {},
   "outputs": [
    {
     "data": {
      "text/plain": [
       "eventname\n",
       "baseline_year_1_arm_1    11215\n",
       "Name: count, dtype: int64"
      ]
     },
     "execution_count": 12,
     "metadata": {},
     "output_type": "execute_result"
    }
   ],
   "source": [
    "rs.eventname.value_counts()"
   ]
  },
  {
   "cell_type": "markdown",
   "id": "b5e87670-50a8-44d1-a8bd-9629344b10f6",
   "metadata": {},
   "source": [
    "### Check if any MRI variables present\n",
    "* if so, append the appropriate ABCD Quality Control Variables\n",
    "* for scanner movement, artifacts, etc"
   ]
  },
  {
   "cell_type": "code",
   "execution_count": 13,
   "id": "ab58753c-3f38-4f8e-b774-1ee9c2ae6972",
   "metadata": {},
   "outputs": [
    {
     "name": "stdout",
     "output_type": "stream",
     "text": [
      "(38815, 364)\n",
      "\n",
      "Pulling from table: mri_y_adm_info.csv\n",
      "\n",
      "Prior to merge df size is (38815, 364) and other df shape is (22939, 3)\n",
      " merging...\n",
      "\n",
      "Any duplicated columns? False\n",
      "New df size is (38815, 365)\n",
      "\n",
      "Pulling from table: mri_y_qc_motion.csv\n",
      "\n",
      "Prior to merge df size is (38815, 365) and other df shape is (22460, 4)\n",
      " merging...\n",
      "\n",
      "Any duplicated columns? False\n",
      "New df size is (38815, 367)\n",
      "\n",
      "Pulling from table: mri_y_qc_incl.csv\n",
      "\n",
      "Prior to merge df size is (38815, 367) and other df shape is (22939, 4)\n",
      " merging...\n",
      "\n",
      "Any duplicated columns? False\n",
      "New df size is (38815, 369)\n",
      "(38815, 369)\n"
     ]
    }
   ],
   "source": [
    "print(rs.shape)\n",
    "rs = anyMRIvars(rs)\n",
    "print(rs.shape)"
   ]
  },
  {
   "cell_type": "code",
   "execution_count": 13,
   "id": "2465919a-1d81-4d76-93ce-d15c3829e8f6",
   "metadata": {},
   "outputs": [
    {
     "data": {
      "text/plain": [
       "eventname\n",
       "baseline_year_1_arm_1    11215\n",
       "Name: count, dtype: int64"
      ]
     },
     "execution_count": 13,
     "metadata": {},
     "output_type": "execute_result"
    }
   ],
   "source": [
    "rs['eventname'].value_counts()"
   ]
  },
  {
   "cell_type": "markdown",
   "id": "63b1c360-572e-4187-840b-1b415937600e",
   "metadata": {},
   "source": [
    "### Save overall df to csv output"
   ]
  },
  {
   "cell_type": "code",
   "execution_count": 14,
   "id": "fbecf609-9f93-417f-871e-ec65f227fc7b",
   "metadata": {},
   "outputs": [
    {
     "data": {
      "text/plain": [
       "(11215, 5)"
      ]
     },
     "execution_count": 14,
     "metadata": {},
     "output_type": "execute_result"
    }
   ],
   "source": [
    "rs.shape"
   ]
  },
  {
   "cell_type": "code",
   "execution_count": 16,
   "id": "2edb1fb6-3be9-4c85-ba67-6f663d4d3713",
   "metadata": {},
   "outputs": [],
   "source": [
    "if 'rsfmri_c_ngd_dt_ngd_dt' in rs.columns.tolist():\n",
    "    rs.to_csv(dpath + 'abcd5.1_rtmri_2b_epn_cort_subc_net_df_urg_dep_.csv', index=False)\n",
    "else:\n",
    "    rs.to_csv(dpath + 'abcd5.1_rtmri_2b_epn_cort_subc_net_urg_dep_.csv', index=False)"
   ]
  },
  {
   "cell_type": "code",
   "execution_count": 15,
   "id": "4874f830-3009-4087-8b8b-bf70e9e310e4",
   "metadata": {},
   "outputs": [],
   "source": [
    "rs.to_csv(dpath + 'abcd5.1_adi_dep_ind4-6.csv', index=False)"
   ]
  },
  {
   "cell_type": "markdown",
   "id": "2c615583-84f6-4199-8278-54d6b4fffab9",
   "metadata": {
    "jp-MarkdownHeadingCollapsed": true
   },
   "source": [
    "# END"
   ]
  },
  {
   "cell_type": "markdown",
   "id": "9c0488ef-d583-4f98-9a0e-b608b2a2fb64",
   "metadata": {},
   "source": [
    "#### For troubleshooting"
   ]
  },
  {
   "cell_type": "code",
   "execution_count": 19,
   "id": "92030ed8-c587-40b4-9c8f-e77f48d263b6",
   "metadata": {
    "scrolled": true
   },
   "outputs": [
    {
     "name": "stdout",
     "output_type": "stream",
     "text": [
      "68\n"
     ]
    },
    {
     "data": {
      "text/plain": [
       "['rsfmri_cor_ngd_sa_scs_aalh',\n",
       " 'rsfmri_cor_ngd_sa_scs_aarh',\n",
       " 'rsfmri_cor_ngd_sa_scs_aglh',\n",
       " 'rsfmri_cor_ngd_sa_scs_agrh',\n",
       " 'rsfmri_cor_ngd_sa_scs_bs',\n",
       " 'rsfmri_cor_ngd_sa_scs_cdelh',\n",
       " 'rsfmri_cor_ngd_sa_scs_cderh',\n",
       " 'rsfmri_cor_ngd_sa_scs_crcxlh',\n",
       " 'rsfmri_cor_ngd_sa_scs_crcxrh',\n",
       " 'rsfmri_cor_ngd_sa_scs_hplh',\n",
       " 'rsfmri_cor_ngd_sa_scs_hprh',\n",
       " 'rsfmri_cor_ngd_sa_scs_pllh',\n",
       " 'rsfmri_cor_ngd_sa_scs_plrh',\n",
       " 'rsfmri_cor_ngd_sa_scs_ptlh',\n",
       " 'rsfmri_cor_ngd_sa_scs_ptrh',\n",
       " 'rsfmri_cor_ngd_sa_scs_thplh',\n",
       " 'rsfmri_cor_ngd_sa_scs_thprh',\n",
       " 'rsfmri_cor_ngd_sa_scs_vtdclh',\n",
       " 'rsfmri_cor_ngd_sa_scs_vtdcrh',\n",
       " 'rsfmri_cor_ngd_df_scs_aalh',\n",
       " 'rsfmri_cor_ngd_df_scs_aarh',\n",
       " 'rsfmri_cor_ngd_df_scs_aglh',\n",
       " 'rsfmri_cor_ngd_df_scs_agrh',\n",
       " 'rsfmri_cor_ngd_df_scs_bs',\n",
       " 'rsfmri_cor_ngd_df_scs_cdelh',\n",
       " 'rsfmri_cor_ngd_df_scs_cderh',\n",
       " 'rsfmri_cor_ngd_df_scs_crcxlh',\n",
       " 'rsfmri_cor_ngd_df_scs_crcxrh',\n",
       " 'rsfmri_cor_ngd_df_scs_hplh',\n",
       " 'rsfmri_cor_ngd_df_scs_hprh',\n",
       " 'rsfmri_cor_ngd_df_scs_pllh',\n",
       " 'rsfmri_cor_ngd_df_scs_plrh',\n",
       " 'rsfmri_cor_ngd_df_scs_ptlh',\n",
       " 'rsfmri_cor_ngd_df_scs_ptrh',\n",
       " 'rsfmri_cor_ngd_df_scs_thplh',\n",
       " 'rsfmri_cor_ngd_df_scs_thprh',\n",
       " 'rsfmri_cor_ngd_df_scs_vtdclh',\n",
       " 'rsfmri_cor_ngd_df_scs_vtdcrh',\n",
       " 'rsfmri_cor_ngd_vta_scs_aalh',\n",
       " 'rsfmri_cor_ngd_vta_scs_aarh',\n",
       " 'rsfmri_cor_ngd_vta_scs_aglh',\n",
       " 'rsfmri_cor_ngd_vta_scs_agrh',\n",
       " 'rsfmri_cor_ngd_vta_scs_cdelh',\n",
       " 'rsfmri_cor_ngd_vta_scs_cderh',\n",
       " 'rsfmri_cor_ngd_vta_scs_crcxlh',\n",
       " 'rsfmri_cor_ngd_vta_scs_crcxrh',\n",
       " 'rsfmri_cor_ngd_vta_scs_hplh',\n",
       " 'rsfmri_cor_ngd_vta_scs_hprh',\n",
       " 'rsfmri_cor_ngd_vta_scs_pllh',\n",
       " 'rsfmri_cor_ngd_vta_scs_plrh',\n",
       " 'rsfmri_cor_ngd_vta_scs_ptlh',\n",
       " 'rsfmri_cor_ngd_vta_scs_ptrh',\n",
       " 'rsfmri_cor_ngd_vta_scs_thplh',\n",
       " 'rsfmri_cor_ngd_vta_scs_thprh',\n",
       " 'rsfmri_cor_ngd_vta_scs_vtdclh',\n",
       " 'rsfmri_cor_ngd_vta_scs_vtdcrh',\n",
       " 'rsfmri_cor_ngd_dsa_scs_aalh',\n",
       " 'rsfmri_cor_ngd_dsa_scs_aarh',\n",
       " 'rsfmri_cor_ngd_dsa_scs_aglh',\n",
       " 'rsfmri_cor_ngd_dsa_scs_agrh',\n",
       " 'rsfmri_cor_ngd_dsa_scs_cdelh',\n",
       " 'rsfmri_cor_ngd_dsa_scs_cderh',\n",
       " 'rsfmri_cor_ngd_dsa_scs_crcxlh',\n",
       " 'rsfmri_cor_ngd_dsa_scs_crcxrh',\n",
       " 'rsfmri_cor_ngd_dsa_scs_hplh',\n",
       " 'rsfmri_cor_ngd_dsa_scs_hprh',\n",
       " 'rsfmri_cor_ngd_dsa_scs_ptlh',\n",
       " 'rsfmri_cor_ngd_dsa_scs_ptrh']"
      ]
     },
     "execution_count": 19,
     "metadata": {},
     "output_type": "execute_result"
    }
   ],
   "source": [
    "df = pd.DataFrame()\n",
    "table_file = 'nc_y_nihtb.csv'\n",
    "table_key = svars1\n",
    "how_merge = 'outer'\n",
    "\n",
    "dat = pd.read_csv(dpath + table_file)\n",
    "# get table name, which is the string before the period\n",
    "table = table_file.split('.')[0]\n",
    "# get column names sub and event which will need for merging dataframes\n",
    "# it's the same for each df so overwriting is fine\n",
    "se_nms = [c for c in dat.columns if c in ['src_subject_id', 'eventname']]\n",
    "# derivative variables desired\n",
    "derivative_cols = table_key[table_key['Table']==table]['Variable'].values.tolist()\n",
    "derivative_cols += se_nms\n",
    "\n",
    "print(len(derivative_cols))\n",
    "derivative_cols"
   ]
  },
  {
   "cell_type": "code",
   "execution_count": null,
   "id": "c265a1ef-6ca4-4ddb-b270-b4ed99cd6452",
   "metadata": {},
   "outputs": [],
   "source": [
    "print('\\nPrior to merge df size is {0} and other df shape is {1}\\n merging...'.format(df.shape, dat[derivative_cols].shape))\n",
    "if 'src_subject_id' not in df.columns:\n",
    "    # for first table assign it to df\n",
    "    df = dat[derivative_cols].copy()\n",
    "else:\n",
    "    # all others are merged\n",
    "    df = df.merge(dat[derivative_cols], how=how_merge, on=['src_subject_id', 'eventname'])\n",
    "print('Any duplicated columns? {}'.format(df.columns.duplicated().any()))\n",
    "print('New df size is {}'.format(df.shape))"
   ]
  },
  {
   "cell_type": "markdown",
   "id": "4cdcd7d5-8b74-4b21-bcac-c16fdbd6ac4c",
   "metadata": {},
   "source": [
    "## test dropDuplicateCols"
   ]
  },
  {
   "cell_type": "code",
   "execution_count": 27,
   "id": "bea315d7-ca15-456e-9d69-7a8f5894af63",
   "metadata": {},
   "outputs": [
    {
     "name": "stdout",
     "output_type": "stream",
     "text": [
      "RSFMRI_C_NGD_SA_NGD_DT is identical to RSFMRI_C_NGD_DT_NGD_SA\n",
      "RSFMRI_C_NGD_SA_NGD_VTA is identical to RSFMRI_C_NGD_VTA_NGD_SA\n",
      "RSFMRI_C_NGD_DT_NGD_VTA is identical to RSFMRI_C_NGD_VTA_NGD_DT\n",
      "RSFMRI_C_NGD_AD_NGD_VTA is identical to RSFMRI_C_NGD_VTA_NGD_AD\n",
      "RSFMRI_C_NGD_CGC_NGD_VTA is identical to RSFMRI_C_NGD_VTA_NGD_CGC\n",
      "RSFMRI_C_NGD_CA_NGD_VTA is identical to RSFMRI_C_NGD_VTA_NGD_CA\n",
      "RSFMRI_C_NGD_DLA_NGD_VTA is identical to RSFMRI_C_NGD_VTA_NGD_DLA\n",
      "RSFMRI_C_NGD_FO_NGD_VTA is identical to RSFMRI_C_NGD_VTA_NGD_FO\n",
      "RSFMRI_C_NGD_N_NGD_VTA is identical to RSFMRI_C_NGD_VTA_NGD_N\n",
      "RSFMRI_C_NGD_RSPLTP_NGD_VTA is identical to RSFMRI_C_NGD_VTA_NGD_RSPLTP\n",
      "RSFMRI_C_NGD_SMH_NGD_VTA is identical to RSFMRI_C_NGD_VTA_NGD_SMH\n",
      "RSFMRI_C_NGD_SMM_NGD_VTA is identical to RSFMRI_C_NGD_VTA_NGD_SMM\n",
      "RSFMRI_C_NGD_VTA_NGD_VS is identical to RSFMRI_C_NGD_VS_NGD_VTA\n"
     ]
    }
   ],
   "source": [
    "df = rs.copy()\n",
    "dup_pairs = [(i, j) for i,j in combinations(df, 2) if df[i].equals(df[j])]\n",
    "cols_to_remove = []\n",
    "for i, j in dup_pairs:\n",
    "    print('{0} is identical to {1}'.format(i.upper(), j.upper()))\n",
    "    cols_to_remove.append(i)\n",
    "\n",
    "df.drop(columns=cols_to_remove, inplace=True)"
   ]
  },
  {
   "cell_type": "code",
   "execution_count": 22,
   "id": "592b497a-f01d-4121-b022-f5a3a314349d",
   "metadata": {},
   "outputs": [
    {
     "data": {
      "text/plain": [
       "['rsfmri_c_ngd_sa_ngd_dt',\n",
       " 'rsfmri_c_ngd_sa_ngd_vta',\n",
       " 'rsfmri_c_ngd_dt_ngd_vta',\n",
       " 'rsfmri_c_ngd_ad_ngd_vta',\n",
       " 'rsfmri_c_ngd_cgc_ngd_vta',\n",
       " 'rsfmri_c_ngd_ca_ngd_vta',\n",
       " 'rsfmri_c_ngd_dla_ngd_vta',\n",
       " 'rsfmri_c_ngd_fo_ngd_vta',\n",
       " 'rsfmri_c_ngd_n_ngd_vta',\n",
       " 'rsfmri_c_ngd_rspltp_ngd_vta',\n",
       " 'rsfmri_c_ngd_smh_ngd_vta',\n",
       " 'rsfmri_c_ngd_smm_ngd_vta',\n",
       " 'rsfmri_c_ngd_vta_ngd_vs']"
      ]
     },
     "execution_count": 22,
     "metadata": {},
     "output_type": "execute_result"
    }
   ],
   "source": [
    "cols_to_remove"
   ]
  },
  {
   "cell_type": "markdown",
   "id": "e4602779-3c0c-40c4-8761-497ff5a86be6",
   "metadata": {},
   "source": [
    "## test anyMRIvars function"
   ]
  },
  {
   "cell_type": "code",
   "execution_count": 73,
   "id": "4d3f6cda-c9ec-41ef-a95a-01013eda4c0d",
   "metadata": {},
   "outputs": [],
   "source": [
    "df = rs.copy()"
   ]
  },
  {
   "cell_type": "code",
   "execution_count": null,
   "id": "c68b87dd-adac-482b-9e2c-076f5a46ef28",
   "metadata": {},
   "outputs": [],
   "source": [
    "# create empty list to store QC vars needed\n",
    "qc_vars = []\n",
    "# if any columns are found that startwith 'rsfmri_', append resting QC vars & the csv file they're found in,..\n",
    "# ... creating a list of tuples which will be combined and converted to dataframe below\n",
    "# this relies on the implicit boolean nature of lists, if empty their FALSE\n",
    "if [col for col in df.columns if col.startswith('rsfmri_')]:\n",
    "    qc_vars += [('mri_y_qc_incl', 'imgincl_rsfmri_include'), ('mri_y_qc_motion', 'rsfmri_meanmotion'), ('mri_y_adm_info', 'mri_info_deviceserialnumber')]\n",
    "\n",
    "# if any columns are found that startwith 'rsfmri_', append resting QC vars & the csv file they're found in\n",
    "if [col for col in df.columns if col.startswith('tfmri_nback_') or col.startswith('tfabwdp')  or col.startswith('tnbasem')]:\n",
    "    qc_vars += [('mri_y_qc_incl', 'imgincl_nback_include'), ('mri_y_qc_motion', 'tfmri_nback_all_meanmotion'), ('mri_y_adm_info', 'mri_info_deviceserialnumber')]\n",
    "\n",
    "# if qc_vars is NOT empty\n",
    "if qc_vars:\n",
    "    # remove duplicates from qc_vars\n",
    "    # calling 'set' function on qc_vars returns only unique items\n",
    "    # then calling 'list' function converts it back to a list\n",
    "    qc_vars = list(set(qc_vars))\n",
    "    # set up table_key dataframe for pulling QC vars\n",
    "    # includes all QC vars selected above with cooresponding table name\n",
    "    qc_key = pd.DataFrame(qc_vars, columns=['Table', 'Variable'])\n",
    "    # get list of unique QC tables from qc_key tuple ex. ('mri_y_qc_incl', 'imgincl_rsfmri_include')\n",
    "    qc_tables = list(set([table for table, var in qc_vars]))\n",
    "    # append QC variables to dataframe\n",
    "    for table in qc_tables:\n",
    "        print('\\nPulling from table: {0}.csv\\n'.format(table))\n",
    "        df = getDerivatives(df, table + '.csv', qc_key, how_merge='left')"
   ]
  },
  {
   "cell_type": "code",
   "execution_count": 75,
   "id": "94630981-950a-493b-8556-0092d65351ce",
   "metadata": {},
   "outputs": [
    {
     "data": {
      "text/plain": [
       "[('mri_y_qc_incl', 'imgincl_rsfmri_include'),\n",
       " ('mri_y_qc_motion', 'rsfmri_meanmotion'),\n",
       " ('mri_y_adm_info', 'mri_info_deviceserialnumber'),\n",
       " ('mri_y_qc_incl', 'imgincl_nback_include'),\n",
       " ('mri_y_qc_motion', 'tfmri_nback_all_meanmotion'),\n",
       " ('mri_y_adm_info', 'mri_info_deviceserialnumber')]"
      ]
     },
     "execution_count": 75,
     "metadata": {},
     "output_type": "execute_result"
    }
   ],
   "source": [
    "qc_vars"
   ]
  },
  {
   "cell_type": "code",
   "execution_count": 76,
   "id": "ab03fb1a-787e-4751-a8f5-20c901682a89",
   "metadata": {},
   "outputs": [
    {
     "data": {
      "text/plain": [
       "[('mri_y_qc_incl', 'imgincl_rsfmri_include'),\n",
       " ('mri_y_qc_motion', 'rsfmri_meanmotion'),\n",
       " ('mri_y_qc_motion', 'tfmri_nback_all_meanmotion'),\n",
       " ('mri_y_adm_info', 'mri_info_deviceserialnumber'),\n",
       " ('mri_y_qc_incl', 'imgincl_nback_include')]"
      ]
     },
     "execution_count": 76,
     "metadata": {},
     "output_type": "execute_result"
    }
   ],
   "source": [
    "qc_vars = list(set(qc_vars))\n",
    "qc_vars"
   ]
  },
  {
   "cell_type": "code",
   "execution_count": 72,
   "id": "9437437d-0d9b-4439-a8b8-d5b45a232da2",
   "metadata": {},
   "outputs": [
    {
     "data": {
      "text/plain": [
       "['rsfmri_meanmotion',\n",
       " 'tfmri_nback_all_meanmotion',\n",
       " 'mri_info_deviceserialnumber',\n",
       " 'imgincl_rsfmri_include',\n",
       " 'imgincl_nback_include']"
      ]
     },
     "execution_count": 72,
     "metadata": {},
     "output_type": "execute_result"
    }
   ],
   "source": [
    "[c for c in df.columns if 'meanmotion' in c or 'deviceserialnumber' in c or 'imgincl' in c]"
   ]
  },
  {
   "cell_type": "code",
   "execution_count": 42,
   "id": "e1c34069-92f9-4506-8527-fff55959a000",
   "metadata": {},
   "outputs": [
    {
     "data": {
      "text/html": [
       "<div>\n",
       "<style scoped>\n",
       "    .dataframe tbody tr th:only-of-type {\n",
       "        vertical-align: middle;\n",
       "    }\n",
       "\n",
       "    .dataframe tbody tr th {\n",
       "        vertical-align: top;\n",
       "    }\n",
       "\n",
       "    .dataframe thead th {\n",
       "        text-align: right;\n",
       "    }\n",
       "</style>\n",
       "<table border=\"1\" class=\"dataframe\">\n",
       "  <thead>\n",
       "    <tr style=\"text-align: right;\">\n",
       "      <th></th>\n",
       "      <th>Table</th>\n",
       "      <th>Variable</th>\n",
       "    </tr>\n",
       "  </thead>\n",
       "  <tbody>\n",
       "    <tr>\n",
       "      <th>0</th>\n",
       "      <td>mri_y_qc_incl.csv</td>\n",
       "      <td>imgincl_rsfmri_include</td>\n",
       "    </tr>\n",
       "    <tr>\n",
       "      <th>1</th>\n",
       "      <td>mri_y_qc_motion.csv</td>\n",
       "      <td>rsfmri_meanmotion</td>\n",
       "    </tr>\n",
       "    <tr>\n",
       "      <th>2</th>\n",
       "      <td>mri_y_qc_incl.csv</td>\n",
       "      <td>imgincl_nback_include</td>\n",
       "    </tr>\n",
       "    <tr>\n",
       "      <th>3</th>\n",
       "      <td>mri_y_adm_info.csv</td>\n",
       "      <td>mri_info_deviceserialnumber</td>\n",
       "    </tr>\n",
       "    <tr>\n",
       "      <th>4</th>\n",
       "      <td>mri_y_qc_motion.csv</td>\n",
       "      <td>tfmri_nback_all_meanmotion</td>\n",
       "    </tr>\n",
       "  </tbody>\n",
       "</table>\n",
       "</div>"
      ],
      "text/plain": [
       "                 Table                     Variable\n",
       "0    mri_y_qc_incl.csv       imgincl_rsfmri_include\n",
       "1  mri_y_qc_motion.csv            rsfmri_meanmotion\n",
       "2    mri_y_qc_incl.csv        imgincl_nback_include\n",
       "3   mri_y_adm_info.csv  mri_info_deviceserialnumber\n",
       "4  mri_y_qc_motion.csv   tfmri_nback_all_meanmotion"
      ]
     },
     "execution_count": 42,
     "metadata": {},
     "output_type": "execute_result"
    }
   ],
   "source": [
    "qc_key"
   ]
  },
  {
   "cell_type": "code",
   "execution_count": 33,
   "id": "6dc9e2cf-1960-4a16-8c5d-e7eaf18f7c73",
   "metadata": {},
   "outputs": [
    {
     "data": {
      "text/plain": [
       "[('mri_y_qc_incl.csv', 'imgincl_rsfmri_include'),\n",
       " ('mri_y_qc_motion.csv', 'rsfmri_meanmotion'),\n",
       " ('mri_y_adm_info.csv', 'mri_info_deviceserialnumber')]"
      ]
     },
     "execution_count": 33,
     "metadata": {},
     "output_type": "execute_result"
    }
   ],
   "source": [
    "qc_vars"
   ]
  },
  {
   "cell_type": "code",
   "execution_count": 27,
   "id": "e8a88831-e77d-4900-abf9-ca61f47bb709",
   "metadata": {},
   "outputs": [
    {
     "data": {
      "text/html": [
       "<div>\n",
       "<style scoped>\n",
       "    .dataframe tbody tr th:only-of-type {\n",
       "        vertical-align: middle;\n",
       "    }\n",
       "\n",
       "    .dataframe tbody tr th {\n",
       "        vertical-align: top;\n",
       "    }\n",
       "\n",
       "    .dataframe thead th {\n",
       "        text-align: right;\n",
       "    }\n",
       "</style>\n",
       "<table border=\"1\" class=\"dataframe\">\n",
       "  <thead>\n",
       "    <tr style=\"text-align: right;\">\n",
       "      <th></th>\n",
       "      <th>Table</th>\n",
       "      <th>Variable</th>\n",
       "    </tr>\n",
       "  </thead>\n",
       "  <tbody>\n",
       "    <tr>\n",
       "      <th>0</th>\n",
       "      <td>mri_y_qc_incl</td>\n",
       "      <td>rsfmri_meanmotion</td>\n",
       "    </tr>\n",
       "    <tr>\n",
       "      <th>1</th>\n",
       "      <td>mri_y_qc_incl</td>\n",
       "      <td>imgincl_rsfmri_include</td>\n",
       "    </tr>\n",
       "    <tr>\n",
       "      <th>2</th>\n",
       "      <td>mri_y_qc_incl</td>\n",
       "      <td>mri_info_deviceserialnumber</td>\n",
       "    </tr>\n",
       "  </tbody>\n",
       "</table>\n",
       "</div>"
      ],
      "text/plain": [
       "           Table                     Variable\n",
       "0  mri_y_qc_incl            rsfmri_meanmotion\n",
       "1  mri_y_qc_incl       imgincl_rsfmri_include\n",
       "2  mri_y_qc_incl  mri_info_deviceserialnumber"
      ]
     },
     "execution_count": 27,
     "metadata": {},
     "output_type": "execute_result"
    }
   ],
   "source": [
    "qc_key"
   ]
  },
  {
   "cell_type": "code",
   "execution_count": null,
   "id": "60f41bdb-7950-4b8e-b993-ecc69ed2cad7",
   "metadata": {},
   "outputs": [],
   "source": []
  }
 ],
 "metadata": {
  "kernelspec": {
   "display_name": "Python 3 (ipykernel)",
   "language": "python",
   "name": "python3"
  },
  "language_info": {
   "codemirror_mode": {
    "name": "ipython",
    "version": 3
   },
   "file_extension": ".py",
   "mimetype": "text/x-python",
   "name": "python",
   "nbconvert_exporter": "python",
   "pygments_lexer": "ipython3",
   "version": "3.11.7"
  }
 },
 "nbformat": 4,
 "nbformat_minor": 5
}
